{
 "cells": [
  {
   "cell_type": "code",
   "execution_count": 17,
   "metadata": {},
   "outputs": [],
   "source": [
    "import pandas as pd\n",
    "import numpy as np\n",
    "import matplotlib.pyplot as plt\n",
    "from sklearn.linear_model import LinearRegression\n",
    "from sklearn.model_selection import train_test_split\n",
    "import scipy.optimize as opt\n",
    "from sklearn.preprocessing import StandardScaler\n",
    "import seaborn as sns"
   ]
  },
  {
   "cell_type": "code",
   "execution_count": 18,
   "metadata": {},
   "outputs": [
    {
     "name": "stdout",
     "output_type": "stream",
     "text": [
      "Index(['number_of_elements', 'mean_atomic_mass', 'wtd_mean_atomic_mass',\n",
      "       'gmean_atomic_mass', 'wtd_gmean_atomic_mass', 'entropy_atomic_mass',\n",
      "       'wtd_entropy_atomic_mass', 'range_atomic_mass', 'wtd_range_atomic_mass',\n",
      "       'std_atomic_mass', 'wtd_std_atomic_mass', 'mean_fie', 'wtd_mean_fie',\n",
      "       'gmean_fie', 'wtd_gmean_fie', 'entropy_fie', 'wtd_entropy_fie',\n",
      "       'range_fie', 'wtd_range_fie', 'std_fie', 'wtd_std_fie',\n",
      "       'mean_atomic_radius', 'wtd_mean_atomic_radius', 'gmean_atomic_radius',\n",
      "       'wtd_gmean_atomic_radius', 'entropy_atomic_radius',\n",
      "       'wtd_entropy_atomic_radius', 'range_atomic_radius',\n",
      "       'wtd_range_atomic_radius', 'std_atomic_radius', 'wtd_std_atomic_radius',\n",
      "       'mean_Density', 'wtd_mean_Density', 'gmean_Density',\n",
      "       'wtd_gmean_Density', 'entropy_Density', 'wtd_entropy_Density',\n",
      "       'range_Density', 'wtd_range_Density', 'std_Density', 'wtd_std_Density',\n",
      "       'mean_ElectronAffinity', 'wtd_mean_ElectronAffinity',\n",
      "       'gmean_ElectronAffinity', 'wtd_gmean_ElectronAffinity',\n",
      "       'entropy_ElectronAffinity', 'wtd_entropy_ElectronAffinity',\n",
      "       'range_ElectronAffinity', 'wtd_range_ElectronAffinity',\n",
      "       'std_ElectronAffinity', 'wtd_std_ElectronAffinity', 'mean_FusionHeat',\n",
      "       'wtd_mean_FusionHeat', 'gmean_FusionHeat', 'wtd_gmean_FusionHeat',\n",
      "       'entropy_FusionHeat', 'wtd_entropy_FusionHeat', 'range_FusionHeat',\n",
      "       'wtd_range_FusionHeat', 'std_FusionHeat', 'wtd_std_FusionHeat',\n",
      "       'mean_ThermalConductivity', 'wtd_mean_ThermalConductivity',\n",
      "       'gmean_ThermalConductivity', 'wtd_gmean_ThermalConductivity',\n",
      "       'entropy_ThermalConductivity', 'wtd_entropy_ThermalConductivity',\n",
      "       'range_ThermalConductivity', 'wtd_range_ThermalConductivity',\n",
      "       'std_ThermalConductivity', 'wtd_std_ThermalConductivity',\n",
      "       'mean_Valence', 'wtd_mean_Valence', 'gmean_Valence',\n",
      "       'wtd_gmean_Valence', 'entropy_Valence', 'wtd_entropy_Valence',\n",
      "       'range_Valence', 'wtd_range_Valence', 'std_Valence', 'wtd_std_Valence',\n",
      "       'critical_temp'],\n",
      "      dtype='object')\n",
      "(21263, 81)\n",
      "(21263,)\n"
     ]
    }
   ],
   "source": [
    "dataset=pd.read_csv('train_su.csv')\n",
    "print(data.columns)\n",
    "b=data.critical_temp\n",
    "A=data.drop(['critical_temp'],axis=1)\n",
    "print(A.shape)\n",
    "print(b.shape)"
   ]
  },
  {
   "cell_type": "code",
   "execution_count": 19,
   "metadata": {},
   "outputs": [],
   "source": [
    "from sklearn.model_selection import train_test_split\n",
    "A_train, A_test, b_train, b_test = train_test_split(A, b, test_size = 0.2, random_state = 0)"
   ]
  },
  {
   "cell_type": "code",
   "execution_count": 20,
   "metadata": {},
   "outputs": [
    {
     "data": {
      "text/plain": [
       "LinearRegression(copy_X=True, fit_intercept=True, n_jobs=1, normalize=False)"
      ]
     },
     "execution_count": 20,
     "metadata": {},
     "output_type": "execute_result"
    }
   ],
   "source": [
    "from sklearn.linear_model import LinearRegression\n",
    "regressor = LinearRegression()\n",
    "regressor.fit(A_train, b_train)"
   ]
  },
  {
   "cell_type": "code",
   "execution_count": 21,
   "metadata": {},
   "outputs": [],
   "source": [
    "b_pred = regressor.predict(A_test)"
   ]
  },
  {
   "cell_type": "code",
   "execution_count": 22,
   "metadata": {},
   "outputs": [
    {
     "name": "stdout",
     "output_type": "stream",
     "text": [
      "Mean squared error: 308.32\n",
      "R-sqared: 0.65\n"
     ]
    }
   ],
   "source": [
    "from sklearn.metrics import mean_squared_error, r2_score\n",
    "print(\"Mean squared error: %.2f\" % mean_squared_error(b_pred, b_test))\n",
    "print('R-sqared: %.2f' % r2_score(b_pred, b_test))"
   ]
  },
  {
   "cell_type": "code",
   "execution_count": 23,
   "metadata": {},
   "outputs": [
    {
     "data": {
      "image/png": "[encoded data removed]",
      "text/plain": [
       "<Figure size 432x288 with 1 Axes>"
      ]
     },
     "metadata": {},
     "output_type": "display_data"
    }
   ],
   "source": [
    "fig, ax = plt.subplots()\n",
    "ax.scatter(b_test, b_pred)\n",
    "ax.plot([b_test.min(), b_test.max()], [b_test.min(), b_test.max()], 'k--', lw=4)\n",
    "ax.set_xlabel('measured')\n",
    "ax.set_ylabel('predicted')\n",
    "plt.show()"
   ]
  },
  {
   "cell_type": "code",
   "execution_count": null,
   "metadata": {},
   "outputs": [],
   "source": []
  },
  {
   "cell_type": "code",
   "execution_count": null,
   "metadata": {},
   "outputs": [],
   "source": []
  }
 ],
 "metadata": {
  "kernelspec": {
   "display_name": "Python 3",
   "language": "python",
   "name": "python3"
  }
 },
 "nbformat": 4,
 "nbformat_minor": 2
}
